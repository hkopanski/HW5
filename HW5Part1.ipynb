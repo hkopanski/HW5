{
 "cells": [
  {
   "cell_type": "code",
   "execution_count": 1,
   "metadata": {},
   "outputs": [
    {
     "name": "stderr",
     "output_type": "stream",
     "text": [
      "Loading required package: tidyverse\n",
      "\n",
      "── \u001b[1mAttaching packages\u001b[22m ─────────────────────────────────────── tidyverse 1.3.1 ──\n",
      "\n",
      "\u001b[32m✔\u001b[39m \u001b[34mggplot2\u001b[39m 3.3.3     \u001b[32m✔\u001b[39m \u001b[34mpurrr  \u001b[39m 0.3.4\n",
      "\u001b[32m✔\u001b[39m \u001b[34mtibble \u001b[39m 3.1.2     \u001b[32m✔\u001b[39m \u001b[34mdplyr  \u001b[39m 1.0.6\n",
      "\u001b[32m✔\u001b[39m \u001b[34mtidyr  \u001b[39m 1.1.3     \u001b[32m✔\u001b[39m \u001b[34mstringr\u001b[39m 1.4.0\n",
      "\u001b[32m✔\u001b[39m \u001b[34mreadr  \u001b[39m 1.4.0     \u001b[32m✔\u001b[39m \u001b[34mforcats\u001b[39m 0.5.1\n",
      "\n",
      "── \u001b[1mConflicts\u001b[22m ────────────────────────────────────────── tidyverse_conflicts() ──\n",
      "\u001b[31m✖\u001b[39m \u001b[34mdplyr\u001b[39m::\u001b[32mfilter()\u001b[39m masks \u001b[34mstats\u001b[39m::filter()\n",
      "\u001b[31m✖\u001b[39m \u001b[34mdplyr\u001b[39m::\u001b[32mlag()\u001b[39m    masks \u001b[34mstats\u001b[39m::lag()\n",
      "\n"
     ]
    }
   ],
   "source": [
    "require('tidyverse')\n",
    "library('readxl')"
   ]
  },
  {
   "cell_type": "code",
   "execution_count": 10,
   "metadata": {},
   "outputs": [
    {
     "data": {
      "text/html": [
       "'/home/hk-user/R/x86_64-pc-linux-gnu-library/4.0/readxl/extdata/deaths.xlsx'"
      ],
      "text/latex": [
       "'/home/hk-user/R/x86\\_64-pc-linux-gnu-library/4.0/readxl/extdata/deaths.xlsx'"
      ],
      "text/markdown": [
       "'/home/hk-user/R/x86_64-pc-linux-gnu-library/4.0/readxl/extdata/deaths.xlsx'"
      ],
      "text/plain": [
       "[1] \"/home/hk-user/R/x86_64-pc-linux-gnu-library/4.0/readxl/extdata/deaths.xlsx\""
      ]
     },
     "metadata": {},
     "output_type": "display_data"
    }
   ],
   "source": [
    "readxl_example(\"deaths.xlsx\")"
   ]
  },
  {
   "cell_type": "code",
   "execution_count": 9,
   "metadata": {},
   "outputs": [
    {
     "ename": "ERROR",
     "evalue": "Error in parse(text = x, srcfile = src): <text>:1:1: unexpected '/'\n1: /\n    ^\n",
     "output_type": "error",
     "traceback": [
      "Error in parse(text = x, srcfile = src): <text>:1:1: unexpected '/'\n1: /\n    ^\nTraceback:\n"
     ]
    }
   ],
   "source": [
    "//home//hk-user//R//x86_64-pc-linux-gnu-library//4.0//readxl//extdata//clippy.xlsx"
   ]
  },
  {
   "cell_type": "code",
   "execution_count": 24,
   "metadata": {},
   "outputs": [
    {
     "name": "stderr",
     "output_type": "stream",
     "text": [
      "New names:\n",
      "* `` -> ...2\n",
      "* `` -> ...3\n",
      "* `` -> ...4\n",
      "* `` -> ...5\n",
      "* `` -> ...6\n",
      "\n"
     ]
    },
    {
     "data": {
      "text/html": [
       "<style>\n",
       ".list-inline {list-style: none; margin:0; padding: 0}\n",
       ".list-inline>li {display: inline-block}\n",
       ".list-inline>li:not(:last-child)::after {content: \"\\00b7\"; padding: 0 .5ex}\n",
       "</style>\n",
       "<ol class=list-inline><li>'arts'</li><li>'other'</li></ol>\n"
      ],
      "text/latex": [
       "\\begin{enumerate*}\n",
       "\\item 'arts'\n",
       "\\item 'other'\n",
       "\\end{enumerate*}\n"
      ],
      "text/markdown": [
       "1. 'arts'\n",
       "2. 'other'\n",
       "\n",
       "\n"
      ],
      "text/plain": [
       "[1] \"arts\"  \"other\""
      ]
     },
     "metadata": {},
     "output_type": "display_data"
    }
   ],
   "source": [
    "# Deaths data \n",
    "# 1 - Installed\n",
    "# 2 - Two tabs, random notes in the top and bottom.\n",
    "# 3 - \n",
    "df_deaths <- read_excel(\"//home//hk-user//R//x86_64-pc-linux-gnu-library//4.0//readxl//extdata//deaths.xlsx\")\n",
    "excel_sheets(\"//home//hk-user//R//x86_64-pc-linux-gnu-library//4.0//readxl//extdata//deaths.xlsx\")"
   ]
  },
  {
   "cell_type": "code",
   "execution_count": 15,
   "metadata": {},
   "outputs": [
    {
     "name": "stdout",
     "output_type": "stream",
     "text": [
      "\u001b[90m# A tibble: 18 x 6\u001b[39m\n",
      "   `Lots of people`        ...2             ...3   ...4   ...5      ...6        \n",
      "   \u001b[3m\u001b[90m<chr>\u001b[39m\u001b[23m                   \u001b[3m\u001b[90m<chr>\u001b[39m\u001b[23m            \u001b[3m\u001b[90m<chr>\u001b[39m\u001b[23m  \u001b[3m\u001b[90m<chr>\u001b[39m\u001b[23m  \u001b[3m\u001b[90m<chr>\u001b[39m\u001b[23m     \u001b[3m\u001b[90m<chr>\u001b[39m\u001b[23m       \n",
      "\u001b[90m 1\u001b[39m simply cannot resist w… \u001b[31mNA\u001b[39m               \u001b[31mNA\u001b[39m     \u001b[31mNA\u001b[39m     \u001b[31mNA\u001b[39m        some notes  \n",
      "\u001b[90m 2\u001b[39m at                      the              top    \u001b[31mNA\u001b[39m     of        their sprea…\n",
      "\u001b[90m 3\u001b[39m or                      merging          \u001b[31mNA\u001b[39m     \u001b[31mNA\u001b[39m     \u001b[31mNA\u001b[39m        cells       \n",
      "\u001b[90m 4\u001b[39m Name                    Profession       Age    Has k… Date of … Date of dea…\n",
      "\u001b[90m 5\u001b[39m David Bowie             musician         69     TRUE   17175     42379       \n",
      "\u001b[90m 6\u001b[39m Carrie Fisher           actor            60     TRUE   20749     42731       \n",
      "\u001b[90m 7\u001b[39m Chuck Berry             musician         90     TRUE   9788      42812       \n",
      "\u001b[90m 8\u001b[39m Bill Paxton             actor            61     TRUE   20226     42791       \n",
      "\u001b[90m 9\u001b[39m Prince                  musician         57     TRUE   21343     42481       \n",
      "\u001b[90m10\u001b[39m Alan Rickman            actor            69     FALSE  16854     42383       \n",
      "\u001b[90m11\u001b[39m Florence Henderson      actor            82     TRUE   12464     42698       \n",
      "\u001b[90m12\u001b[39m Harper Lee              author           89     FALSE  9615      42419       \n",
      "\u001b[90m13\u001b[39m Zsa Zsa Gábor           actor            99     TRUE   6247      42722       \n",
      "\u001b[90m14\u001b[39m George Michael          musician         53     FALSE  23187     42729       \n",
      "\u001b[90m15\u001b[39m Some                    \u001b[31mNA\u001b[39m               \u001b[31mNA\u001b[39m     \u001b[31mNA\u001b[39m     \u001b[31mNA\u001b[39m        \u001b[31mNA\u001b[39m          \n",
      "\u001b[90m16\u001b[39m \u001b[31mNA\u001b[39m                      also like to wr… \u001b[31mNA\u001b[39m     \u001b[31mNA\u001b[39m     \u001b[31mNA\u001b[39m        \u001b[31mNA\u001b[39m          \n",
      "\u001b[90m17\u001b[39m \u001b[31mNA\u001b[39m                      \u001b[31mNA\u001b[39m               at the botto… \u001b[31mNA\u001b[39m        \u001b[31mNA\u001b[39m          \n",
      "\u001b[90m18\u001b[39m \u001b[31mNA\u001b[39m                      \u001b[31mNA\u001b[39m               \u001b[31mNA\u001b[39m     \u001b[31mNA\u001b[39m     \u001b[31mNA\u001b[39m        too!        \n"
     ]
    }
   ],
   "source": [
    "print(df_deaths)"
   ]
  },
  {
   "cell_type": "code",
   "execution_count": 25,
   "metadata": {},
   "outputs": [],
   "source": [
    "# Columns with no names, NAs, real column names in 4th row.\n",
    "# 4 -\n",
    "deaths1 <- read_excel(\"//home//hk-user//R//x86_64-pc-linux-gnu-library//4.0//readxl//extdata//deaths.xlsx\", n_max = 10, skip = 4, sheet = 1)"
   ]
  },
  {
   "cell_type": "code",
   "execution_count": 26,
   "metadata": {},
   "outputs": [
    {
     "name": "stdout",
     "output_type": "stream",
     "text": [
      "\u001b[90m# A tibble: 10 x 6\u001b[39m\n",
      "   Name      Profession   Age `Has kids` `Date of birth`     `Date of death`    \n",
      "   \u001b[3m\u001b[90m<chr>\u001b[39m\u001b[23m     \u001b[3m\u001b[90m<chr>\u001b[39m\u001b[23m      \u001b[3m\u001b[90m<dbl>\u001b[39m\u001b[23m \u001b[3m\u001b[90m<lgl>\u001b[39m\u001b[23m      \u001b[3m\u001b[90m<dttm>\u001b[39m\u001b[23m              \u001b[3m\u001b[90m<dttm>\u001b[39m\u001b[23m             \n",
      "\u001b[90m 1\u001b[39m David Bo… musician      69 TRUE       1947-01-08 \u001b[90m00:00:00\u001b[39m 2016-01-10 \u001b[90m00:00:00\u001b[39m\n",
      "\u001b[90m 2\u001b[39m Carrie F… actor         60 TRUE       1956-10-21 \u001b[90m00:00:00\u001b[39m 2016-12-27 \u001b[90m00:00:00\u001b[39m\n",
      "\u001b[90m 3\u001b[39m Chuck Be… musician      90 TRUE       1926-10-18 \u001b[90m00:00:00\u001b[39m 2017-03-18 \u001b[90m00:00:00\u001b[39m\n",
      "\u001b[90m 4\u001b[39m Bill Pax… actor         61 TRUE       1955-05-17 \u001b[90m00:00:00\u001b[39m 2017-02-25 \u001b[90m00:00:00\u001b[39m\n",
      "\u001b[90m 5\u001b[39m Prince    musician      57 TRUE       1958-06-07 \u001b[90m00:00:00\u001b[39m 2016-04-21 \u001b[90m00:00:00\u001b[39m\n",
      "\u001b[90m 6\u001b[39m Alan Ric… actor         69 FALSE      1946-02-21 \u001b[90m00:00:00\u001b[39m 2016-01-14 \u001b[90m00:00:00\u001b[39m\n",
      "\u001b[90m 7\u001b[39m Florence… actor         82 TRUE       1934-02-14 \u001b[90m00:00:00\u001b[39m 2016-11-24 \u001b[90m00:00:00\u001b[39m\n",
      "\u001b[90m 8\u001b[39m Harper L… author        89 FALSE      1926-04-28 \u001b[90m00:00:00\u001b[39m 2016-02-19 \u001b[90m00:00:00\u001b[39m\n",
      "\u001b[90m 9\u001b[39m Zsa Zsa … actor         99 TRUE       1917-02-06 \u001b[90m00:00:00\u001b[39m 2016-12-18 \u001b[90m00:00:00\u001b[39m\n",
      "\u001b[90m10\u001b[39m George M… musician      53 FALSE      1963-06-25 \u001b[90m00:00:00\u001b[39m 2016-12-25 \u001b[90m00:00:00\u001b[39m\n"
     ]
    }
   ],
   "source": [
    "print(deaths1)"
   ]
  },
  {
   "cell_type": "code",
   "execution_count": 27,
   "metadata": {},
   "outputs": [
    {
     "name": "stdout",
     "output_type": "stream",
     "text": [
      "\u001b[90m# A tibble: 10 x 6\u001b[39m\n",
      "   Name      Profession   Age `Has kids` `Date of birth`     `Date of death`    \n",
      "   \u001b[3m\u001b[90m<chr>\u001b[39m\u001b[23m     \u001b[3m\u001b[90m<chr>\u001b[39m\u001b[23m      \u001b[3m\u001b[90m<dbl>\u001b[39m\u001b[23m \u001b[3m\u001b[90m<lgl>\u001b[39m\u001b[23m      \u001b[3m\u001b[90m<dttm>\u001b[39m\u001b[23m              \u001b[3m\u001b[90m<dttm>\u001b[39m\u001b[23m             \n",
      "\u001b[90m 1\u001b[39m Vera Rub… scientist     88 TRUE       1928-07-23 \u001b[90m00:00:00\u001b[39m 2016-12-25 \u001b[90m00:00:00\u001b[39m\n",
      "\u001b[90m 2\u001b[39m Mohamed … athlete       74 TRUE       1942-01-17 \u001b[90m00:00:00\u001b[39m 2016-06-03 \u001b[90m00:00:00\u001b[39m\n",
      "\u001b[90m 3\u001b[39m Morley S… journalist    84 TRUE       1931-11-08 \u001b[90m00:00:00\u001b[39m 2016-05-19 \u001b[90m00:00:00\u001b[39m\n",
      "\u001b[90m 4\u001b[39m Fidel Ca… politician    90 TRUE       1926-08-13 \u001b[90m00:00:00\u001b[39m 2016-11-25 \u001b[90m00:00:00\u001b[39m\n",
      "\u001b[90m 5\u001b[39m Antonin … lawyer        79 TRUE       1936-03-11 \u001b[90m00:00:00\u001b[39m 2016-02-13 \u001b[90m00:00:00\u001b[39m\n",
      "\u001b[90m 6\u001b[39m Jo Cox    politician    41 TRUE       1974-06-22 \u001b[90m00:00:00\u001b[39m 2016-06-16 \u001b[90m00:00:00\u001b[39m\n",
      "\u001b[90m 7\u001b[39m Janet Re… lawyer        78 FALSE      1938-07-21 \u001b[90m00:00:00\u001b[39m 2016-11-07 \u001b[90m00:00:00\u001b[39m\n",
      "\u001b[90m 8\u001b[39m Gwen Ifi… journalist    61 FALSE      1955-09-29 \u001b[90m00:00:00\u001b[39m 2016-11-14 \u001b[90m00:00:00\u001b[39m\n",
      "\u001b[90m 9\u001b[39m John Gle… astronaut     95 TRUE       1921-07-28 \u001b[90m00:00:00\u001b[39m 2016-12-08 \u001b[90m00:00:00\u001b[39m\n",
      "\u001b[90m10\u001b[39m Pat Summ… coach         64 TRUE       1952-06-14 \u001b[90m00:00:00\u001b[39m 2016-06-28 \u001b[90m00:00:00\u001b[39m\n"
     ]
    }
   ],
   "source": [
    "# 5 - \n",
    "deaths2 <- read_excel(\"//home//hk-user//R//x86_64-pc-linux-gnu-library//4.0//readxl//extdata//deaths.xlsx\", n_max = 10, skip = 4, sheet = 2)\n",
    "print(deaths2)"
   ]
  },
  {
   "cell_type": "code",
   "execution_count": 29,
   "metadata": {},
   "outputs": [
    {
     "name": "stdout",
     "output_type": "stream",
     "text": [
      "\u001b[90m# A tibble: 20 x 6\u001b[39m\n",
      "   Name      Profession   Age `Has kids` `Date of birth`     `Date of death`    \n",
      "   \u001b[3m\u001b[90m<chr>\u001b[39m\u001b[23m     \u001b[3m\u001b[90m<chr>\u001b[39m\u001b[23m      \u001b[3m\u001b[90m<dbl>\u001b[39m\u001b[23m \u001b[3m\u001b[90m<lgl>\u001b[39m\u001b[23m      \u001b[3m\u001b[90m<dttm>\u001b[39m\u001b[23m              \u001b[3m\u001b[90m<dttm>\u001b[39m\u001b[23m             \n",
      "\u001b[90m 1\u001b[39m David Bo… musician      69 TRUE       1947-01-08 \u001b[90m00:00:00\u001b[39m 2016-01-10 \u001b[90m00:00:00\u001b[39m\n",
      "\u001b[90m 2\u001b[39m Carrie F… actor         60 TRUE       1956-10-21 \u001b[90m00:00:00\u001b[39m 2016-12-27 \u001b[90m00:00:00\u001b[39m\n",
      "\u001b[90m 3\u001b[39m Chuck Be… musician      90 TRUE       1926-10-18 \u001b[90m00:00:00\u001b[39m 2017-03-18 \u001b[90m00:00:00\u001b[39m\n",
      "\u001b[90m 4\u001b[39m Bill Pax… actor         61 TRUE       1955-05-17 \u001b[90m00:00:00\u001b[39m 2017-02-25 \u001b[90m00:00:00\u001b[39m\n",
      "\u001b[90m 5\u001b[39m Prince    musician      57 TRUE       1958-06-07 \u001b[90m00:00:00\u001b[39m 2016-04-21 \u001b[90m00:00:00\u001b[39m\n",
      "\u001b[90m 6\u001b[39m Alan Ric… actor         69 FALSE      1946-02-21 \u001b[90m00:00:00\u001b[39m 2016-01-14 \u001b[90m00:00:00\u001b[39m\n",
      "\u001b[90m 7\u001b[39m Florence… actor         82 TRUE       1934-02-14 \u001b[90m00:00:00\u001b[39m 2016-11-24 \u001b[90m00:00:00\u001b[39m\n",
      "\u001b[90m 8\u001b[39m Harper L… author        89 FALSE      1926-04-28 \u001b[90m00:00:00\u001b[39m 2016-02-19 \u001b[90m00:00:00\u001b[39m\n",
      "\u001b[90m 9\u001b[39m Zsa Zsa … actor         99 TRUE       1917-02-06 \u001b[90m00:00:00\u001b[39m 2016-12-18 \u001b[90m00:00:00\u001b[39m\n",
      "\u001b[90m10\u001b[39m George M… musician      53 FALSE      1963-06-25 \u001b[90m00:00:00\u001b[39m 2016-12-25 \u001b[90m00:00:00\u001b[39m\n",
      "\u001b[90m11\u001b[39m Vera Rub… scientist     88 TRUE       1928-07-23 \u001b[90m00:00:00\u001b[39m 2016-12-25 \u001b[90m00:00:00\u001b[39m\n",
      "\u001b[90m12\u001b[39m Mohamed … athlete       74 TRUE       1942-01-17 \u001b[90m00:00:00\u001b[39m 2016-06-03 \u001b[90m00:00:00\u001b[39m\n",
      "\u001b[90m13\u001b[39m Morley S… journalist    84 TRUE       1931-11-08 \u001b[90m00:00:00\u001b[39m 2016-05-19 \u001b[90m00:00:00\u001b[39m\n",
      "\u001b[90m14\u001b[39m Fidel Ca… politician    90 TRUE       1926-08-13 \u001b[90m00:00:00\u001b[39m 2016-11-25 \u001b[90m00:00:00\u001b[39m\n",
      "\u001b[90m15\u001b[39m Antonin … lawyer        79 TRUE       1936-03-11 \u001b[90m00:00:00\u001b[39m 2016-02-13 \u001b[90m00:00:00\u001b[39m\n",
      "\u001b[90m16\u001b[39m Jo Cox    politician    41 TRUE       1974-06-22 \u001b[90m00:00:00\u001b[39m 2016-06-16 \u001b[90m00:00:00\u001b[39m\n",
      "\u001b[90m17\u001b[39m Janet Re… lawyer        78 FALSE      1938-07-21 \u001b[90m00:00:00\u001b[39m 2016-11-07 \u001b[90m00:00:00\u001b[39m\n",
      "\u001b[90m18\u001b[39m Gwen Ifi… journalist    61 FALSE      1955-09-29 \u001b[90m00:00:00\u001b[39m 2016-11-14 \u001b[90m00:00:00\u001b[39m\n",
      "\u001b[90m19\u001b[39m John Gle… astronaut     95 TRUE       1921-07-28 \u001b[90m00:00:00\u001b[39m 2016-12-08 \u001b[90m00:00:00\u001b[39m\n",
      "\u001b[90m20\u001b[39m Pat Summ… coach         64 TRUE       1952-06-14 \u001b[90m00:00:00\u001b[39m 2016-06-28 \u001b[90m00:00:00\u001b[39m\n"
     ]
    }
   ],
   "source": [
    "all_deaths <- rbind(deaths1, deaths2)\n",
    "print(all_deaths)"
   ]
  },
  {
   "cell_type": "code",
   "execution_count": 32,
   "metadata": {},
   "outputs": [
    {
     "name": "stdout",
     "output_type": "stream",
     "text": [
      "\u001b[90m# A tibble: 3,198 x 42\u001b[39m\n",
      "   Area_name     STCOU EDU010187F EDU010187D EDU010187N1 EDU010187N2 EDU010188F\n",
      "   \u001b[3m\u001b[90m<chr>\u001b[39m\u001b[23m         \u001b[3m\u001b[90m<chr>\u001b[39m\u001b[23m      \u001b[3m\u001b[90m<dbl>\u001b[39m\u001b[23m      \u001b[3m\u001b[90m<dbl>\u001b[39m\u001b[23m \u001b[3m\u001b[90m<chr>\u001b[39m\u001b[23m       \u001b[3m\u001b[90m<chr>\u001b[39m\u001b[23m            \u001b[3m\u001b[90m<dbl>\u001b[39m\u001b[23m\n",
      "\u001b[90m 1\u001b[39m UNITED STATES 00000          0   40\u001b[4m0\u001b[24m\u001b[4m2\u001b[24m\u001b[4m4\u001b[24m299 0000        0000                 0\n",
      "\u001b[90m 2\u001b[39m ALABAMA       01000          0     \u001b[4m7\u001b[24m\u001b[4m3\u001b[24m\u001b[4m3\u001b[24m735 0000        0000                 0\n",
      "\u001b[90m 3\u001b[39m Autauga, AL   01001          0       \u001b[4m6\u001b[24m829 0000        0000                 0\n",
      "\u001b[90m 4\u001b[39m Baldwin, AL   01003          0      \u001b[4m1\u001b[24m\u001b[4m6\u001b[24m417 0000        0000                 0\n",
      "\u001b[90m 5\u001b[39m Barbour, AL   01005          0       \u001b[4m5\u001b[24m071 0000        0000                 0\n",
      "\u001b[90m 6\u001b[39m Bibb, AL      01007          0       \u001b[4m3\u001b[24m557 0000        0000                 0\n",
      "\u001b[90m 7\u001b[39m Blount, AL    01009          0       \u001b[4m7\u001b[24m319 0000        0000                 0\n",
      "\u001b[90m 8\u001b[39m Bullock, AL   01011          0       \u001b[4m2\u001b[24m014 0000        0000                 0\n",
      "\u001b[90m 9\u001b[39m Butler, AL    01013          0       \u001b[4m4\u001b[24m640 0000        0000                 0\n",
      "\u001b[90m10\u001b[39m Calhoun, AL   01015          0      \u001b[4m2\u001b[24m\u001b[4m0\u001b[24m939 0000        0000                 0\n",
      "\u001b[90m# … with 3,188 more rows, and 35 more variables: EDU010188D <dbl>,\u001b[39m\n",
      "\u001b[90m#   EDU010188N1 <chr>, EDU010188N2 <chr>, EDU010189F <dbl>, EDU010189D <dbl>,\u001b[39m\n",
      "\u001b[90m#   EDU010189N1 <chr>, EDU010189N2 <chr>, EDU010190F <dbl>, EDU010190D <dbl>,\u001b[39m\n",
      "\u001b[90m#   EDU010190N1 <chr>, EDU010190N2 <chr>, EDU010191F <dbl>, EDU010191D <dbl>,\u001b[39m\n",
      "\u001b[90m#   EDU010191N1 <chr>, EDU010191N2 <chr>, EDU010192F <dbl>, EDU010192D <dbl>,\u001b[39m\n",
      "\u001b[90m#   EDU010192N1 <chr>, EDU010192N2 <chr>, EDU010193F <dbl>, EDU010193D <dbl>,\u001b[39m\n",
      "\u001b[90m#   EDU010193N1 <chr>, EDU010193N2 <chr>, EDU010194F <dbl>, EDU010194D <dbl>,\u001b[39m\n",
      "\u001b[90m#   EDU010194N1 <chr>, EDU010194N2 <chr>, EDU010195F <dbl>, EDU010195D <dbl>,\u001b[39m\n",
      "\u001b[90m#   EDU010195N1 <chr>, EDU010195N2 <chr>, EDU010196F <dbl>, EDU010196D <dbl>,\u001b[39m\n",
      "\u001b[90m#   EDU010196N1 <chr>, EDU010196N2 <chr>\u001b[39m\n"
     ]
    }
   ],
   "source": [
    "# Education Data\n",
    "# 1 - \n",
    "edData <- read_excel(\"HW5_data/censusEd.xlsx\", sheet = 1)\n",
    "print(edData)"
   ]
  },
  {
   "cell_type": "code",
   "execution_count": 38,
   "metadata": {},
   "outputs": [
    {
     "name": "stdout",
     "output_type": "stream",
     "text": [
      "\u001b[90m# A tibble: 50 x 42\u001b[39m\n",
      "   Area_name   STCOU EDU010187F EDU010187D EDU010187N1 EDU010187N2 EDU010188F\n",
      "   \u001b[3m\u001b[90m<chr>\u001b[39m\u001b[23m       \u001b[3m\u001b[90m<chr>\u001b[39m\u001b[23m      \u001b[3m\u001b[90m<dbl>\u001b[39m\u001b[23m      \u001b[3m\u001b[90m<dbl>\u001b[39m\u001b[23m \u001b[3m\u001b[90m<chr>\u001b[39m\u001b[23m       \u001b[3m\u001b[90m<chr>\u001b[39m\u001b[23m            \u001b[3m\u001b[90m<dbl>\u001b[39m\u001b[23m\n",
      "\u001b[90m 1\u001b[39m ALABAMA     01000          0     \u001b[4m7\u001b[24m\u001b[4m3\u001b[24m\u001b[4m3\u001b[24m735 0000        0000                 0\n",
      "\u001b[90m 2\u001b[39m ALASKA      02000          0     \u001b[4m1\u001b[24m\u001b[4m0\u001b[24m\u001b[4m2\u001b[24m872 0000        0000                 0\n",
      "\u001b[90m 3\u001b[39m ARIZONA     04000          0     \u001b[4m6\u001b[24m\u001b[4m0\u001b[24m\u001b[4m9\u001b[24m411 0000        0000                 0\n",
      "\u001b[90m 4\u001b[39m ARKANSAS    05000          0     \u001b[4m4\u001b[24m\u001b[4m2\u001b[24m\u001b[4m9\u001b[24m260 0000        0000                 0\n",
      "\u001b[90m 5\u001b[39m CALIFORNIA  06000          0    4\u001b[4m6\u001b[24m\u001b[4m2\u001b[24m\u001b[4m1\u001b[24m126 0000        0000                 0\n",
      "\u001b[90m 6\u001b[39m COLORADO    08000          0     \u001b[4m5\u001b[24m\u001b[4m5\u001b[24m\u001b[4m5\u001b[24m678 0000        0000                 0\n",
      "\u001b[90m 7\u001b[39m CONNECTICUT 09000          0     \u001b[4m4\u001b[24m\u001b[4m4\u001b[24m\u001b[4m5\u001b[24m646 0000        0000                 0\n",
      "\u001b[90m 8\u001b[39m DELAWARE    10000          0      \u001b[4m9\u001b[24m\u001b[4m8\u001b[24m111 0000        0000                 0\n",
      "\u001b[90m 9\u001b[39m FLORIDA     12000          0    1\u001b[4m6\u001b[24m\u001b[4m0\u001b[24m\u001b[4m7\u001b[24m115 0000        0000                 0\n",
      "\u001b[90m10\u001b[39m GEORGIA     13000          0    1\u001b[4m0\u001b[24m\u001b[4m8\u001b[24m\u001b[4m9\u001b[24m412 0000        0000                 0\n",
      "\u001b[90m# … with 40 more rows, and 35 more variables: EDU010188D <dbl>,\u001b[39m\n",
      "\u001b[90m#   EDU010188N1 <chr>, EDU010188N2 <chr>, EDU010189F <dbl>, EDU010189D <dbl>,\u001b[39m\n",
      "\u001b[90m#   EDU010189N1 <chr>, EDU010189N2 <chr>, EDU010190F <dbl>, EDU010190D <dbl>,\u001b[39m\n",
      "\u001b[90m#   EDU010190N1 <chr>, EDU010190N2 <chr>, EDU010191F <dbl>, EDU010191D <dbl>,\u001b[39m\n",
      "\u001b[90m#   EDU010191N1 <chr>, EDU010191N2 <chr>, EDU010192F <dbl>, EDU010192D <dbl>,\u001b[39m\n",
      "\u001b[90m#   EDU010192N1 <chr>, EDU010192N2 <chr>, EDU010193F <dbl>, EDU010193D <dbl>,\u001b[39m\n",
      "\u001b[90m#   EDU010193N1 <chr>, EDU010193N2 <chr>, EDU010194F <dbl>, EDU010194D <dbl>,\u001b[39m\n",
      "\u001b[90m#   EDU010194N1 <chr>, EDU010194N2 <chr>, EDU010195F <dbl>, EDU010195D <dbl>,\u001b[39m\n",
      "\u001b[90m#   EDU010195N1 <chr>, EDU010195N2 <chr>, EDU010196F <dbl>, EDU010196D <dbl>,\u001b[39m\n",
      "\u001b[90m#   EDU010196N1 <chr>, EDU010196N2 <chr>\u001b[39m\n"
     ]
    }
   ],
   "source": [
    "# 2 - \n",
    "edData %>% filter(Area_name %in% toupper(state.name)) %>% print()"
   ]
  },
  {
   "cell_type": "code",
   "execution_count": 50,
   "metadata": {},
   "outputs": [
    {
     "name": "stdout",
     "output_type": "stream",
     "text": [
      "\u001b[90m# A tibble: 50 x 11\u001b[39m\n",
      "   Area_name   EDU010187D EDU010188D EDU010189D EDU010190D EDU010191D EDU010192D\n",
      "   \u001b[3m\u001b[90m<chr>\u001b[39m\u001b[23m            \u001b[3m\u001b[90m<dbl>\u001b[39m\u001b[23m      \u001b[3m\u001b[90m<dbl>\u001b[39m\u001b[23m      \u001b[3m\u001b[90m<dbl>\u001b[39m\u001b[23m      \u001b[3m\u001b[90m<dbl>\u001b[39m\u001b[23m      \u001b[3m\u001b[90m<dbl>\u001b[39m\u001b[23m      \u001b[3m\u001b[90m<dbl>\u001b[39m\u001b[23m\n",
      "\u001b[90m 1\u001b[39m ALABAMA         \u001b[4m7\u001b[24m\u001b[4m3\u001b[24m\u001b[4m3\u001b[24m735     \u001b[4m7\u001b[24m\u001b[4m2\u001b[24m\u001b[4m8\u001b[24m234     \u001b[4m7\u001b[24m\u001b[4m3\u001b[24m\u001b[4m0\u001b[24m048     \u001b[4m7\u001b[24m\u001b[4m2\u001b[24m\u001b[4m8\u001b[24m252     \u001b[4m7\u001b[24m\u001b[4m2\u001b[24m\u001b[4m5\u001b[24m541     \u001b[4m7\u001b[24m\u001b[4m2\u001b[24m\u001b[4m6\u001b[24m150\n",
      "\u001b[90m 2\u001b[39m ALASKA          \u001b[4m1\u001b[24m\u001b[4m0\u001b[24m\u001b[4m2\u001b[24m872     \u001b[4m1\u001b[24m\u001b[4m0\u001b[24m\u001b[4m6\u001b[24m043     \u001b[4m1\u001b[24m\u001b[4m0\u001b[24m\u001b[4m4\u001b[24m153     \u001b[4m1\u001b[24m\u001b[4m0\u001b[24m\u001b[4m8\u001b[24m810     \u001b[4m1\u001b[24m\u001b[4m1\u001b[24m\u001b[4m2\u001b[24m190     \u001b[4m1\u001b[24m\u001b[4m1\u001b[24m\u001b[4m8\u001b[24m680\n",
      "\u001b[90m 3\u001b[39m ARIZONA         \u001b[4m6\u001b[24m\u001b[4m0\u001b[24m\u001b[4m9\u001b[24m411     \u001b[4m5\u001b[24m\u001b[4m8\u001b[24m\u001b[4m5\u001b[24m756     \u001b[4m6\u001b[24m\u001b[4m0\u001b[24m\u001b[4m9\u001b[24m562     \u001b[4m6\u001b[24m\u001b[4m1\u001b[24m\u001b[4m7\u001b[24m753     \u001b[4m6\u001b[24m\u001b[4m3\u001b[24m\u001b[4m4\u001b[24m201     \u001b[4m6\u001b[24m\u001b[4m5\u001b[24m\u001b[4m6\u001b[24m286\n",
      "\u001b[90m 4\u001b[39m ARKANSAS        \u001b[4m4\u001b[24m\u001b[4m2\u001b[24m\u001b[4m9\u001b[24m260     \u001b[4m4\u001b[24m\u001b[4m3\u001b[24m\u001b[4m7\u001b[24m155     \u001b[4m4\u001b[24m\u001b[4m4\u001b[24m\u001b[4m1\u001b[24m907     \u001b[4m4\u001b[24m\u001b[4m3\u001b[24m\u001b[4m6\u001b[24m023     \u001b[4m4\u001b[24m\u001b[4m3\u001b[24m\u001b[4m6\u001b[24m209     \u001b[4m4\u001b[24m\u001b[4m3\u001b[24m\u001b[4m8\u001b[24m772\n",
      "\u001b[90m 5\u001b[39m CALIFORNIA     4\u001b[4m6\u001b[24m\u001b[4m2\u001b[24m\u001b[4m1\u001b[24m126    4\u001b[4m4\u001b[24m\u001b[4m8\u001b[24m\u001b[4m8\u001b[24m398    4\u001b[4m8\u001b[24m\u001b[4m3\u001b[24m\u001b[4m3\u001b[24m981    4\u001b[4m7\u001b[24m\u001b[4m7\u001b[24m\u001b[4m1\u001b[24m978    4\u001b[4m9\u001b[24m\u001b[4m4\u001b[24m\u001b[4m9\u001b[24m910    5\u001b[4m1\u001b[24m\u001b[4m0\u001b[24m\u001b[4m8\u001b[24m228\n",
      "\u001b[90m 6\u001b[39m COLORADO        \u001b[4m5\u001b[24m\u001b[4m5\u001b[24m\u001b[4m5\u001b[24m678     \u001b[4m5\u001b[24m\u001b[4m6\u001b[24m\u001b[4m0\u001b[24m236     \u001b[4m5\u001b[24m\u001b[4m6\u001b[24m\u001b[4m0\u001b[24m081     \u001b[4m5\u001b[24m\u001b[4m6\u001b[24m\u001b[4m2\u001b[24m755     \u001b[4m5\u001b[24m\u001b[4m7\u001b[24m\u001b[4m4\u001b[24m213     \u001b[4m5\u001b[24m\u001b[4m9\u001b[24m\u001b[4m3\u001b[24m030\n",
      "\u001b[90m 7\u001b[39m CONNECTICUT     \u001b[4m4\u001b[24m\u001b[4m4\u001b[24m\u001b[4m5\u001b[24m646     \u001b[4m4\u001b[24m\u001b[4m6\u001b[24m\u001b[4m5\u001b[24m279     \u001b[4m4\u001b[24m\u001b[4m6\u001b[24m\u001b[4m1\u001b[24m519     \u001b[4m4\u001b[24m\u001b[4m6\u001b[24m\u001b[4m1\u001b[24m560     \u001b[4m4\u001b[24m\u001b[4m6\u001b[24m\u001b[4m9\u001b[24m013     \u001b[4m4\u001b[24m\u001b[4m8\u001b[24m\u001b[4m1\u001b[24m049\n",
      "\u001b[90m 8\u001b[39m DELAWARE         \u001b[4m9\u001b[24m\u001b[4m8\u001b[24m111     \u001b[4m1\u001b[24m\u001b[4m0\u001b[24m\u001b[4m0\u001b[24m002      \u001b[4m8\u001b[24m\u001b[4m5\u001b[24m786      \u001b[4m9\u001b[24m\u001b[4m7\u001b[24m698      \u001b[4m9\u001b[24m\u001b[4m9\u001b[24m672     \u001b[4m1\u001b[24m\u001b[4m0\u001b[24m\u001b[4m2\u001b[24m511\n",
      "\u001b[90m 9\u001b[39m FLORIDA        1\u001b[4m6\u001b[24m\u001b[4m0\u001b[24m\u001b[4m7\u001b[24m115    1\u001b[4m6\u001b[24m\u001b[4m6\u001b[24m\u001b[4m4\u001b[24m774    1\u001b[4m7\u001b[24m\u001b[4m2\u001b[24m\u001b[4m0\u001b[24m927    1\u001b[4m7\u001b[24m\u001b[4m7\u001b[24m\u001b[4m2\u001b[24m349    1\u001b[4m8\u001b[24m\u001b[4m6\u001b[24m\u001b[4m2\u001b[24m185    1\u001b[4m9\u001b[24m\u001b[4m3\u001b[24m\u001b[4m1\u001b[24m951\n",
      "\u001b[90m10\u001b[39m GEORGIA        1\u001b[4m0\u001b[24m\u001b[4m8\u001b[24m\u001b[4m9\u001b[24m412    1\u001b[4m1\u001b[24m\u001b[4m1\u001b[24m\u001b[4m0\u001b[24m947    1\u001b[4m1\u001b[24m\u001b[4m0\u001b[24m\u001b[4m7\u001b[24m994    1\u001b[4m1\u001b[24m\u001b[4m2\u001b[24m\u001b[4m6\u001b[24m102    1\u001b[4m1\u001b[24m\u001b[4m5\u001b[24m\u001b[4m2\u001b[24m386    1\u001b[4m1\u001b[24m\u001b[4m7\u001b[24m\u001b[4m7\u001b[24m689\n",
      "\u001b[90m# … with 40 more rows, and 4 more variables: EDU010193D <dbl>,\u001b[39m\n",
      "\u001b[90m#   EDU010194D <dbl>, EDU010195D <dbl>, EDU010196D <dbl>\u001b[39m\n"
     ]
    }
   ],
   "source": [
    "# 3 - \n",
    "edDataD <- edData %>% filter(Area_name %in% toupper(state.name)) %>% select(Area_name, ends_with('D'))\n",
    "edDataD %>% print()"
   ]
  },
  {
   "cell_type": "code",
   "execution_count": 75,
   "metadata": {},
   "outputs": [
    {
     "name": "stdout",
     "output_type": "stream",
     "text": [
      "\u001b[90m# A tibble: 50 x 2\u001b[39m\n",
      "   Area_name    EDU010196D\n",
      "   \u001b[3m\u001b[90m<chr>\u001b[39m\u001b[23m             \u001b[3m\u001b[90m<dbl>\u001b[39m\u001b[23m\n",
      "\u001b[90m 1\u001b[39m CALIFORNIA      5\u001b[4m4\u001b[24m\u001b[4m6\u001b[24m\u001b[4m8\u001b[24m287\n",
      "\u001b[90m 2\u001b[39m TEXAS           3\u001b[4m7\u001b[24m\u001b[4m4\u001b[24m\u001b[4m0\u001b[24m260\n",
      "\u001b[90m 3\u001b[39m NEW YORK        2\u001b[4m8\u001b[24m\u001b[4m1\u001b[24m\u001b[4m3\u001b[24m230\n",
      "\u001b[90m 4\u001b[39m FLORIDA         2\u001b[4m1\u001b[24m\u001b[4m7\u001b[24m\u001b[4m9\u001b[24m138\n",
      "\u001b[90m 5\u001b[39m ILLINOIS        1\u001b[4m9\u001b[24m\u001b[4m5\u001b[24m\u001b[4m6\u001b[24m874\n",
      "\u001b[90m 6\u001b[39m OHIO            1\u001b[4m8\u001b[24m\u001b[4m3\u001b[24m\u001b[4m7\u001b[24m628\n",
      "\u001b[90m 7\u001b[39m PENNSYLVANIA    1\u001b[4m7\u001b[24m\u001b[4m8\u001b[24m\u001b[4m7\u001b[24m533\n",
      "\u001b[90m 8\u001b[39m MICHIGAN        1\u001b[4m6\u001b[24m\u001b[4m3\u001b[24m\u001b[4m1\u001b[24m529\n",
      "\u001b[90m 9\u001b[39m GEORGIA         1\u001b[4m3\u001b[24m\u001b[4m1\u001b[24m\u001b[4m1\u001b[24m126\n",
      "\u001b[90m10\u001b[39m NEW JERSEY      1\u001b[4m1\u001b[24m\u001b[4m9\u001b[24m\u001b[4m5\u001b[24m076\n",
      "\u001b[90m# … with 40 more rows\u001b[39m\n"
     ]
    }
   ],
   "source": [
    "# 4 - Yes, those are the top three most populus states.\n",
    "edDataD %>% select(Area_name, contains(\"96\")) %>% arrange(desc(EDU010196D)) %>% print()"
   ]
  },
  {
   "cell_type": "code",
   "execution_count": 76,
   "metadata": {},
   "outputs": [
    {
     "name": "stderr",
     "output_type": "stream",
     "text": [
      "\n",
      "\u001b[36m──\u001b[39m \u001b[1m\u001b[1mColumn specification\u001b[1m\u001b[22m \u001b[36m────────────────────────────────────────────────────────\u001b[39m\n",
      "cols(\n",
      "  .default = col_double(),\n",
      "  week = \u001b[31mcol_character()\u001b[39m,\n",
      "  date = \u001b[31mcol_character()\u001b[39m,\n",
      "  day = \u001b[31mcol_character()\u001b[39m,\n",
      "  awayTeam = \u001b[31mcol_character()\u001b[39m,\n",
      "  homeTeam = \u001b[31mcol_character()\u001b[39m,\n",
      "  stadium = \u001b[31mcol_character()\u001b[39m,\n",
      "  startTime = \u001b[34mcol_time(format = \"\")\u001b[39m,\n",
      "  toss = \u001b[31mcol_character()\u001b[39m,\n",
      "  roof = \u001b[31mcol_character()\u001b[39m,\n",
      "  surface = \u001b[31mcol_character()\u001b[39m,\n",
      "  attendance = \u001b[31mcol_character()\u001b[39m,\n",
      "  weather = \u001b[31mcol_character()\u001b[39m,\n",
      "  vegasLine = \u001b[31mcol_character()\u001b[39m,\n",
      "  OU = \u001b[31mcol_character()\u001b[39m,\n",
      "  OUresult = \u001b[31mcol_character()\u001b[39m\n",
      ")\n",
      "\u001b[36mℹ\u001b[39m Use \u001b[30m\u001b[47m\u001b[30m\u001b[47m`spec()`\u001b[47m\u001b[30m\u001b[49m\u001b[39m for the full column specifications.\n",
      "\n",
      "\n"
     ]
    },
    {
     "name": "stdout",
     "output_type": "stream",
     "text": [
      "\u001b[90m# A tibble: 3,471 x 82\u001b[39m\n",
      "   week  date  day   season awayTeam    AQ1   AQ2   AQ3   AQ4   AOT  AOT2 AFinal\n",
      "   \u001b[3m\u001b[90m<chr>\u001b[39m\u001b[23m \u001b[3m\u001b[90m<chr>\u001b[39m\u001b[23m \u001b[3m\u001b[90m<chr>\u001b[39m\u001b[23m  \u001b[3m\u001b[90m<dbl>\u001b[39m\u001b[23m \u001b[3m\u001b[90m<chr>\u001b[39m\u001b[23m     \u001b[3m\u001b[90m<dbl>\u001b[39m\u001b[23m \u001b[3m\u001b[90m<dbl>\u001b[39m\u001b[23m \u001b[3m\u001b[90m<dbl>\u001b[39m\u001b[23m \u001b[3m\u001b[90m<dbl>\u001b[39m\u001b[23m \u001b[3m\u001b[90m<dbl>\u001b[39m\u001b[23m \u001b[3m\u001b[90m<dbl>\u001b[39m\u001b[23m  \u001b[3m\u001b[90m<dbl>\u001b[39m\u001b[23m\n",
      "\u001b[90m 1\u001b[39m 1     5-Sep Thu     \u001b[4m2\u001b[24m002 San Fran…     3     0     7     6    -\u001b[31m1\u001b[39m    -\u001b[31m1\u001b[39m     16\n",
      "\u001b[90m 2\u001b[39m 1     8-Sep Sun     \u001b[4m2\u001b[24m002 Minnesot…     3    17     0     3    -\u001b[31m1\u001b[39m    -\u001b[31m1\u001b[39m     23\n",
      "\u001b[90m 3\u001b[39m 1     8-Sep Sun     \u001b[4m2\u001b[24m002 New Orle…     6     7     7     0     6    -\u001b[31m1\u001b[39m     26\n",
      "\u001b[90m 4\u001b[39m 1     8-Sep Sun     \u001b[4m2\u001b[24m002 New York…     0    17     3    11     6    -\u001b[31m1\u001b[39m     37\n",
      "\u001b[90m 5\u001b[39m 1     8-Sep Sun     \u001b[4m2\u001b[24m002 Arizona …    10     3     3     7    -\u001b[31m1\u001b[39m    -\u001b[31m1\u001b[39m     23\n",
      "\u001b[90m 6\u001b[39m 1     8-Sep Sun     \u001b[4m2\u001b[24m002 Philadel…    14    10     0     0    -\u001b[31m1\u001b[39m    -\u001b[31m1\u001b[39m     24\n",
      "\u001b[90m 7\u001b[39m 1     8-Sep Sun     \u001b[4m2\u001b[24m002 Indianap…     7     7     7     7    -\u001b[31m1\u001b[39m    -\u001b[31m1\u001b[39m     28\n",
      "\u001b[90m 8\u001b[39m 1     8-Sep Sun     \u001b[4m2\u001b[24m002 Kansas C…     7     7     3    23    -\u001b[31m1\u001b[39m    -\u001b[31m1\u001b[39m     40\n",
      "\u001b[90m 9\u001b[39m 1     8-Sep Sun     \u001b[4m2\u001b[24m002 Seattle …     7     0     0    10    -\u001b[31m1\u001b[39m    -\u001b[31m1\u001b[39m     17\n",
      "\u001b[90m10\u001b[39m 1     8-Sep Sun     \u001b[4m2\u001b[24m002 San Dieg…    10    10     7     7    -\u001b[31m1\u001b[39m    -\u001b[31m1\u001b[39m     34\n",
      "\u001b[90m# … with 3,461 more rows, and 70 more variables: homeTeam <chr>, HQ1 <dbl>,\u001b[39m\n",
      "\u001b[90m#   HQ2 <dbl>, HQ3 <dbl>, HQ4 <dbl>, HOT <dbl>, HOT2 <dbl>, HFinal <dbl>,\u001b[39m\n",
      "\u001b[90m#   stadium <chr>, startTime <time>, toss <chr>, roof <chr>, surface <chr>,\u001b[39m\n",
      "\u001b[90m#   duration <dbl>, attendance <chr>, weather <chr>, vegasLine <chr>, OU <chr>,\u001b[39m\n",
      "\u001b[90m#   AfirstDowns <dbl>, AnetPassYds <dbl>, AtotalYds <dbl>, Aturnovers <dbl>,\u001b[39m\n",
      "\u001b[90m#   AtotalPlays <dbl>, HfirstDowns <dbl>, HnetPassYds <dbl>, HtotalYds <dbl>,\u001b[39m\n",
      "\u001b[90m#   Hturnovers <dbl>, HtotalPlays <dbl>, OUvalue <dbl>, OUresult <chr>,\u001b[39m\n",
      "\u001b[90m#   awayRushAtt <dbl>, awayRushYds <dbl>, awayRushTD <dbl>, awayPassComp <dbl>,\u001b[39m\n",
      "\u001b[90m#   awayPassAtt <dbl>, awayPassYds <dbl>, awayPassTD <dbl>, awayPassInt <dbl>,\u001b[39m\n",
      "\u001b[90m#   awayTimesSacked <dbl>, awaySackYdsLost <dbl>, awayFum <dbl>,\u001b[39m\n",
      "\u001b[90m#   awayFumLost <dbl>, awayNumPen <dbl>, awayPenYds <dbl>, away3rdConv <dbl>,\u001b[39m\n",
      "\u001b[90m#   away3rdAtt <dbl>, away4thConv <dbl>, away4thAtt <dbl>, awayTOP <dbl>,\u001b[39m\n",
      "\u001b[90m#   homeRushAtt <dbl>, homeRushYds <dbl>, homeRushTD <dbl>, homePassComp <dbl>,\u001b[39m\n",
      "\u001b[90m#   homePassAtt <dbl>, homePassYds <dbl>, homePassTD <dbl>, homePassInt <dbl>,\u001b[39m\n",
      "\u001b[90m#   homeTimesSacked <dbl>, homeSackYdsLost <dbl>, homeFum <dbl>,\u001b[39m\n",
      "\u001b[90m#   homeFumLost <dbl>, homeNumPen <dbl>, homePenYds <dbl>, home3rdConv <dbl>,\u001b[39m\n",
      "\u001b[90m#   home3rdAtt <dbl>, home4thConv <dbl>, home4thAtt <dbl>, homeTOP <dbl>,\u001b[39m\n",
      "\u001b[90m#   HminusAScore <dbl>, homeSpread <dbl>\u001b[39m\n"
     ]
    }
   ],
   "source": [
    "# Scores Data\n",
    "scoresFull <- readr::read_csv(\"HW5_data/scoresFull.csv\")\n",
    "print(scoresFull)"
   ]
  },
  {
   "cell_type": "code",
   "execution_count": 83,
   "metadata": {},
   "outputs": [
    {
     "name": "stderr",
     "output_type": "stream",
     "text": [
      "\n",
      "\u001b[36m──\u001b[39m \u001b[1m\u001b[1mColumn specification\u001b[1m\u001b[22m \u001b[36m────────────────────────────────────────────────────────\u001b[39m\n",
      "cols(\n",
      "  religion = \u001b[31mcol_character()\u001b[39m,\n",
      "  `<$10k` = \u001b[31mcol_character()\u001b[39m,\n",
      "  `$10-20k` = \u001b[31mcol_character()\u001b[39m,\n",
      "  `$20-30k` = \u001b[32mcol_double()\u001b[39m,\n",
      "  `$30-40k` = \u001b[32mcol_double()\u001b[39m,\n",
      "  `$40-50k` = \u001b[32mcol_double()\u001b[39m,\n",
      "  `$50-75k` = \u001b[32mcol_double()\u001b[39m\n",
      ")\n",
      "\n",
      "\n",
      "Warning message:\n",
      "“4 parsing failures.\n",
      "row col  expected    actual                        file\n",
      "  5  -- 7 columns 8 columns 'HW5_data/relig_income.txt'\n",
      "  6  -- 7 columns 8 columns 'HW5_data/relig_income.txt'\n",
      "  8  -- 7 columns 9 columns 'HW5_data/relig_income.txt'\n",
      "  9  -- 7 columns 8 columns 'HW5_data/relig_income.txt'\n",
      "”\n"
     ]
    },
    {
     "name": "stdout",
     "output_type": "stream",
     "text": [
      "\u001b[90m# A tibble: 10 x 7\u001b[39m\n",
      "   religion       `<$10k`      `$10-20k` `$20-30k` `$30-40k` `$40-50k` `$50-75k`\n",
      "   \u001b[3m\u001b[90m<chr>\u001b[39m\u001b[23m          \u001b[3m\u001b[90m<chr>\u001b[39m\u001b[23m        \u001b[3m\u001b[90m<chr>\u001b[39m\u001b[23m         \u001b[3m\u001b[90m<dbl>\u001b[39m\u001b[23m     \u001b[3m\u001b[90m<dbl>\u001b[39m\u001b[23m     \u001b[3m\u001b[90m<dbl>\u001b[39m\u001b[23m     \u001b[3m\u001b[90m<dbl>\u001b[39m\u001b[23m\n",
      "\u001b[90m 1\u001b[39m \u001b[90m\"\u001b[39mAgnostic\u001b[90m\"\u001b[39m     27           34               60        81        76       137\n",
      "\u001b[90m 2\u001b[39m \u001b[90m\"\u001b[39mAtheist\u001b[90m\"\u001b[39m      12           27               37        52        35        70\n",
      "\u001b[90m 3\u001b[39m \u001b[90m\"\u001b[39mBuddhist\u001b[90m\"\u001b[39m     27           21               30        34        33        58\n",
      "\u001b[90m 4\u001b[39m \u001b[90m\"\u001b[39mCatholic\u001b[90m\"\u001b[39m     418          617             732       670       638      \u001b[4m1\u001b[24m116\n",
      "\u001b[90m 5\u001b[39m \u001b[90m\"\u001b[39mDon\\x92t\u001b[90m\"\u001b[39m     know/refused 15               14        15        11        10\n",
      "\u001b[90m 6\u001b[39m \u001b[90m\"\u001b[39mEvangelical\u001b[90m\"\u001b[39m  Prot         575             869      \u001b[4m1\u001b[24m064       982       881\n",
      "\u001b[90m 7\u001b[39m \u001b[90m\"\u001b[39mHindu\u001b[90m\"\u001b[39m        1            9                 7         9        11        34\n",
      "\u001b[90m 8\u001b[39m \u001b[90m\"\u001b[39mHistorically\u001b[90m\"\u001b[39m Black        Prot            228       244       236       238\n",
      "\u001b[90m 9\u001b[39m \u001b[90m\"\u001b[39mJehovah\\x92s\u001b[90m\"\u001b[39m Witness      20               27        24        24        21\n",
      "\u001b[90m10\u001b[39m \u001b[90m\"\u001b[39mJewish\u001b[90m\"\u001b[39m       19           19               25        25        30        95\n"
     ]
    }
   ],
   "source": [
    "# Religion Data\n",
    "\n",
    "# 1 - It appears to be using a space as a delimiter.\n",
    "\n",
    "# 2 - \n",
    "\n",
    "relig <- readr::read_delim(\"HW5_data/relig_income.txt\", delim = \" \")\n",
    "print(relig)"
   ]
  },
  {
   "cell_type": "code",
   "execution_count": null,
   "metadata": {},
   "outputs": [],
   "source": []
  }
 ],
 "metadata": {
  "kernelspec": {
   "display_name": "R",
   "language": "R",
   "name": "ir"
  },
  "language_info": {
   "codemirror_mode": "r",
   "file_extension": ".r",
   "mimetype": "text/x-r-source",
   "name": "R",
   "pygments_lexer": "r",
   "version": "4.0.5"
  }
 },
 "nbformat": 4,
 "nbformat_minor": 4
}
